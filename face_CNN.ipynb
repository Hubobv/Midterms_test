{
  "nbformat": 4,
  "nbformat_minor": 0,
  "metadata": {
    "colab": {
      "provenance": [],
      "mount_file_id": "18zKBsv8b-KZu3HctknECc3-ew2yMswcB",
      "authorship_tag": "ABX9TyOcjBfwHj6zmNP2kQQm3R74",
      "include_colab_link": true
    },
    "kernelspec": {
      "name": "python3",
      "display_name": "Python 3"
    },
    "language_info": {
      "name": "python"
    },
    "gpuClass": "standard",
    "accelerator": "GPU"
  },
  "cells": [
    {
      "cell_type": "markdown",
      "metadata": {
        "id": "view-in-github",
        "colab_type": "text"
      },
      "source": [
        "<a href=\"https://colab.research.google.com/github/Hubobv/Midterms_test/blob/main/face_CNN.ipynb\" target=\"_parent\"><img src=\"https://colab.research.google.com/assets/colab-badge.svg\" alt=\"Open In Colab\"/></a>"
      ]
    },
    {
      "cell_type": "code",
      "execution_count": null,
      "metadata": {
        "colab": {
          "base_uri": "https://localhost:8080/"
        },
        "id": "q046Kwmfe7H2",
        "outputId": "f68c1ce4-7933-4c7f-cb42-85bfb61df88c"
      },
      "outputs": [
        {
          "output_type": "stream",
          "name": "stderr",
          "text": [
            "/usr/local/lib/python3.9/dist-packages/keras/optimizers/legacy/gradient_descent.py:114: UserWarning: The `lr` argument is deprecated, use `learning_rate` instead.\n",
            "  super().__init__(name, **kwargs)\n"
          ]
        },
        {
          "output_type": "stream",
          "name": "stdout",
          "text": [
            "Epoch 1/30\n",
            "3/3 [==============================] - 17s 2s/step - loss: 2.1096 - accuracy: 0.2189\n",
            "Epoch 2/30\n",
            "3/3 [==============================] - 1s 196ms/step - loss: 1.4359 - accuracy: 0.3195\n",
            "Epoch 3/30\n",
            "3/3 [==============================] - 1s 199ms/step - loss: 1.0254 - accuracy: 0.6036\n",
            "Epoch 4/30\n",
            "3/3 [==============================] - 1s 199ms/step - loss: 0.8414 - accuracy: 0.6391\n",
            "Epoch 5/30\n",
            "3/3 [==============================] - 1s 208ms/step - loss: 0.6686 - accuracy: 0.7456\n",
            "Epoch 6/30\n",
            "3/3 [==============================] - 1s 205ms/step - loss: 0.5184 - accuracy: 0.8107\n",
            "Epoch 7/30\n",
            "3/3 [==============================] - 1s 206ms/step - loss: 0.3944 - accuracy: 0.8521\n",
            "Epoch 8/30\n",
            "3/3 [==============================] - 1s 204ms/step - loss: 0.2644 - accuracy: 0.9408\n",
            "Epoch 9/30\n",
            "3/3 [==============================] - 1s 203ms/step - loss: 0.1811 - accuracy: 0.9527\n",
            "Epoch 10/30\n",
            "3/3 [==============================] - 1s 200ms/step - loss: 0.1247 - accuracy: 0.9704\n",
            "Epoch 11/30\n",
            "3/3 [==============================] - 1s 200ms/step - loss: 0.0981 - accuracy: 0.9822\n",
            "Epoch 12/30\n",
            "3/3 [==============================] - 1s 197ms/step - loss: 0.1171 - accuracy: 0.9586\n",
            "Epoch 13/30\n",
            "3/3 [==============================] - 1s 202ms/step - loss: 0.0620 - accuracy: 0.9882\n",
            "Epoch 14/30\n",
            "3/3 [==============================] - 1s 203ms/step - loss: 0.0529 - accuracy: 0.9941\n",
            "Epoch 15/30\n",
            "3/3 [==============================] - 1s 200ms/step - loss: 0.0459 - accuracy: 1.0000\n",
            "Epoch 16/30\n",
            "3/3 [==============================] - 1s 201ms/step - loss: 0.0479 - accuracy: 0.9941\n",
            "Epoch 17/30\n",
            "3/3 [==============================] - 1s 203ms/step - loss: 0.0575 - accuracy: 0.9822\n",
            "Epoch 18/30\n",
            "3/3 [==============================] - 1s 202ms/step - loss: 0.0180 - accuracy: 1.0000\n",
            "Epoch 19/30\n",
            "3/3 [==============================] - 1s 200ms/step - loss: 0.0316 - accuracy: 0.9882\n",
            "Epoch 20/30\n",
            "3/3 [==============================] - 1s 197ms/step - loss: 0.0397 - accuracy: 0.9882\n",
            "Epoch 21/30\n",
            "3/3 [==============================] - 1s 201ms/step - loss: 0.0401 - accuracy: 0.9763\n",
            "Epoch 22/30\n",
            "3/3 [==============================] - 1s 197ms/step - loss: 0.0299 - accuracy: 0.9941\n",
            "Epoch 23/30\n",
            "3/3 [==============================] - 1s 199ms/step - loss: 0.0233 - accuracy: 0.9882\n",
            "Epoch 24/30\n",
            "3/3 [==============================] - 1s 202ms/step - loss: 0.0122 - accuracy: 1.0000\n",
            "Epoch 25/30\n",
            "3/3 [==============================] - 1s 206ms/step - loss: 0.0093 - accuracy: 1.0000\n",
            "Epoch 26/30\n",
            "3/3 [==============================] - 1s 209ms/step - loss: 0.0267 - accuracy: 0.9882\n",
            "Epoch 27/30\n",
            "3/3 [==============================] - 1s 207ms/step - loss: 0.0134 - accuracy: 1.0000\n",
            "Epoch 28/30\n",
            "3/3 [==============================] - 1s 208ms/step - loss: 0.0133 - accuracy: 0.9941\n",
            "Epoch 29/30\n",
            "3/3 [==============================] - 1s 211ms/step - loss: 0.0108 - accuracy: 1.0000\n",
            "Epoch 30/30\n",
            "3/3 [==============================] - 1s 200ms/step - loss: 0.0149 - accuracy: 0.9941\n"
          ]
        }
      ],
      "source": [
        "from os import listdir\n",
        "import numpy as np\n",
        "from numpy import save\n",
        "from keras.utils import to_categorical, load_img, img_to_array\n",
        "from keras.models import Sequential,Model\n",
        "from keras.layers import Dense, Conv2D, MaxPooling2D, Flatten, LeakyReLU, Activation, Dropout\n",
        "from keras.optimizers import Adam,SGD\n",
        "import matplotlib.pyplot as plt\n",
        "\n",
        "# specify the folder here\n",
        "folder = '/content/drive/MyDrive/face/'\n",
        "\n",
        "photos, labels = list(), list()\n",
        "\n",
        "for file in listdir(folder):\n",
        "    output = None\n",
        "    if file.startswith('phuc'):\n",
        "        output = 0\n",
        "    if file.startswith('Phat'):\n",
        "        output = 1\n",
        "    if file.startswith('duy'):\n",
        "        output = 2\n",
        "    if output is not None:\n",
        "      photo = load_img(folder + file, target_size=(200, 200, 3))\n",
        "      photo = img_to_array(photo)\n",
        "      photos.append(photo)\n",
        "      labels.append(output)\n",
        "\n",
        "photos = np.array(photos)\n",
        "labels = np.array(labels)\n",
        "\n",
        "# Normalize images\n",
        "photos= photos.astype('float32')/255\n",
        "\n",
        "# One-hot encode labels\n",
        "labels = to_categorical(labels,10)\n",
        "\n",
        "# Save photos and labels to disk\n",
        "save('/content/drive/MyDrive/monan/face_photos.npy', photos)\n",
        "save('/content/drive/MyDrive/monan/face_labels.npy', labels)\n",
        "\n",
        "# Define the model\n",
        "model = Sequential()\n",
        "model.add(Conv2D(32,(3,3), padding='same', input_shape=(200, 200,3)))\n",
        "model.add(Activation('relu'))\n",
        "model.add(Conv2D(32,(3,3)))\n",
        "model.add(Activation('relu'))\n",
        "model.add(MaxPooling2D((2,2)))\n",
        "model.add(Dropout(0.25))\n",
        "\n",
        "model.add(Conv2D(64,(3,3),padding='same'))\n",
        "model.add(Activation('relu'))\n",
        "model.add(Conv2D(64,(3,3)))\n",
        "model.add(Activation('relu'))\n",
        "model.add(MaxPooling2D((2, 2)))\n",
        "model.add(Dropout(0.25))\n",
        "model.add(Flatten())\n",
        "model.add(Dense(512, activation='relu'))\n",
        "model.add(Dropout(0.5))\n",
        "model.add(Dense(10, activation='softmax'))\n",
        "\n",
        "# Compile the model\n",
        "#model.compile(loss='categorical_crossentropy', optimizer=Adam(lr=0.001), metrics=['accuracy'])\n",
        "from keras.losses import categorical_crossentropy\n",
        "sgd = SGD(lr = 0.001, decay = 1e-6, momentum = 0.8, nesterov= True)\n",
        "model.compile(loss= categorical_crossentropy, optimizer= sgd, metrics = ['accuracy'])\n",
        "classes=['phuc','Phat','duy']\n",
        "# Train the model\n",
        "train = model.fit(photos, labels, batch_size=64, epochs=30, verbose=1)"
      ]
    },
    {
      "cell_type": "code",
      "source": [
        "from keras.models import load_model\n",
        "model.save('model4.h5')"
      ],
      "metadata": {
        "id": "cKWJkCS6jO8B"
      },
      "execution_count": null,
      "outputs": []
    },
    {
      "cell_type": "code",
      "source": [
        "from keras.utils import load_img\n",
        "import numpy as np\n",
        "import matplotlib.pyplot as plt\n",
        "from keras.models import load_model\n",
        "model10=load_model('model4.h5')\n",
        "img=load_img('/content/drive/MyDrive/Phat (6).jpg', target_size=(200,200)) \n",
        "plt.imshow(img)\n",
        "img = img_to_array(img)\n",
        "img = img.reshape(1,200,200,3)  \n",
        "img = img.astype('float32')\n",
        "img /= 255\n",
        "y_pred = model10.predict(img)\n",
        "print(y_pred)\n",
        "y_classes = [np.argmax(element) for element in y_pred]\n",
        "y_classes\n",
        "classes[y_classes[0]]"
      ],
      "metadata": {
        "colab": {
          "base_uri": "https://localhost:8080/",
          "height": 504
        },
        "id": "PIDu4a5PtMaT",
        "outputId": "91f8d7a0-6f1a-4512-cf77-2aaa7f8d64f7"
      },
      "execution_count": null,
      "outputs": [
        {
          "output_type": "stream",
          "name": "stdout",
          "text": [
            "1/1 [==============================] - 0s 330ms/step\n",
            "[[3.4110550e-02 9.5836216e-01 7.5212023e-03 1.2732912e-06 2.7007670e-07\n",
            "  2.1220580e-06 1.2688952e-07 7.3503361e-07 7.5037411e-07 7.9230432e-07]]\n"
          ]
        },
        {
          "output_type": "execute_result",
          "data": {
            "text/plain": [
              "'Phat'"
            ],
            "application/vnd.google.colaboratory.intrinsic+json": {
              "type": "string"
            }
          },
          "metadata": {},
          "execution_count": 3
        },
        {
          "output_type": "display_data",
          "data": {
            "text/plain": [
              "<Figure size 640x480 with 1 Axes>"
            ],
            "image/png": "[encoded data removed]"
          },
          "metadata": {}
        }
      ]
    },
    {
      "cell_type": "code",
      "source": [],
      "metadata": {
        "id": "duOz4o6iueZz"
      },
      "execution_count": null,
      "outputs": []
    }
  ]
}